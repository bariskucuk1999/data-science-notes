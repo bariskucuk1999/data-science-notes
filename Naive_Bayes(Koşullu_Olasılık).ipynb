{
  "nbformat": 4,
  "nbformat_minor": 0,
  "metadata": {
    "colab": {
      "name": "Naive Bayes(Koşullu Olasılık).ipynb",
      "provenance": [],
      "collapsed_sections": [],
      "authorship_tag": "ABX9TyOWbCsk/BaupZqiY8h9/Shi",
      "include_colab_link": true
    },
    "kernelspec": {
      "name": "python3",
      "display_name": "Python 3"
    },
    "language_info": {
      "name": "python"
    }
  },
  "cells": [
    {
      "cell_type": "markdown",
      "metadata": {
        "id": "view-in-github",
        "colab_type": "text"
      },
      "source": [
        "<a href=\"https://colab.research.google.com/github/bariskucuk1999/data-science-notes/blob/main/Naive_Bayes(Ko%C5%9Fullu_Olas%C4%B1l%C4%B1k).ipynb\" target=\"_parent\"><img src=\"https://colab.research.google.com/assets/colab-badge.svg\" alt=\"Open In Colab\"/></a>"
      ]
    },
    {
      "cell_type": "markdown",
      "source": [
        "Tahmin edeceğimiz column;\n",
        "*   **Gaussian Naive Bayes**\n",
        "*   sürekli bir değer ise(reel sayı/ondalıklı sayı vb.)\n",
        "*   **Multinomial Naive Bayes**\n",
        "*   nominal değer(araba markası, okul vb. numaralandırma) ise\n",
        "\n",
        "*   **Bernoulli Naive Bayes**\n",
        "*   binary(0-1) ikili durumlar(kadın-erkek vb.) için\n",
        "\n",
        "\n",
        "\n",
        "\n"
      ],
      "metadata": {
        "id": "B1VQcbT8nEfH"
      }
    },
    {
      "cell_type": "code",
      "source": [
        "import pandas as pd\n",
        "veriler=pd.read_csv(\"veriler.txt\")\n",
        "x=veriler.iloc[:,1:4]\n",
        "y=veriler.iloc[:,4:]\n",
        "from sklearn.model_selection import train_test_split\n",
        "x_train, x_test, y_train, y_test=train_test_split(x,y,test_size=0.33,random_state=0)\n",
        "from sklearn.preprocessing import StandardScaler\n",
        "sc=StandardScaler()\n",
        "X_train=sc.fit_transform(x_train)\n",
        "X_test=sc.transform(x_test)"
      ],
      "metadata": {
        "id": "Gqu3B2jtgYCx"
      },
      "execution_count": null,
      "outputs": []
    },
    {
      "cell_type": "code",
      "source": [
        "from sklearn.naive_bayes import GaussianNB\n",
        "gnb=GaussianNB()\n",
        "gnb.fit(X_train, y_train) #x_train'deki bilgileri(boy,kilo,yas) ile y_train(cinsiyet) arası bağlantı\n",
        "y_pred=gnb.predict(X_test)\n",
        "from sklearn.metrics import confusion_matrix\n",
        "cm=confusion_matrix(y_test,y_pred)\n",
        "cm #8 kümeden 1'i doğru çıktı"
      ],
      "metadata": {
        "colab": {
          "base_uri": "https://localhost:8080/"
        },
        "id": "R453VsyqoLoK",
        "outputId": "b05601fb-3b9a-4fc3-ca69-083929e40f4e"
      },
      "execution_count": null,
      "outputs": [
        {
          "output_type": "stream",
          "name": "stderr",
          "text": [
            "/usr/local/lib/python3.7/dist-packages/sklearn/utils/validation.py:993: DataConversionWarning: A column-vector y was passed when a 1d array was expected. Please change the shape of y to (n_samples, ), for example using ravel().\n",
            "  y = column_or_1d(y, warn=True)\n"
          ]
        },
        {
          "output_type": "execute_result",
          "data": {
            "text/plain": [
              "array([[0, 1],\n",
              "       [6, 1]])"
            ]
          },
          "metadata": {},
          "execution_count": 5
        }
      ]
    }
  ]
}