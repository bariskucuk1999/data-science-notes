{
  "nbformat": 4,
  "nbformat_minor": 0,
  "metadata": {
    "colab": {
      "name": "XGBoost(Extreme Gradient Boosting).ipynb",
      "provenance": [],
      "collapsed_sections": [],
      "authorship_tag": "ABX9TyPMYk/6sxnxgfAzrCGI7NiP",
      "include_colab_link": true
    },
    "kernelspec": {
      "name": "python3",
      "display_name": "Python 3"
    },
    "language_info": {
      "name": "python"
    }
  },
  "cells": [
    {
      "cell_type": "markdown",
      "metadata": {
        "id": "view-in-github",
        "colab_type": "text"
      },
      "source": [
        "<a href=\"https://colab.research.google.com/github/bariskucuk1999/data-science-notes/blob/main/XGBoost(Extreme_Gradient_Boosting).ipynb\" target=\"_parent\"><img src=\"https://colab.research.google.com/assets/colab-badge.svg\" alt=\"Open In Colab\"/></a>"
      ]
    },
    {
      "cell_type": "markdown",
      "source": [
        "*   yüksek verilerde iyi performans gösterir(çalışma performansı)\n",
        "*   hızlı çalışma\n",
        "*   problem ve modelin yorumunun mümkün olması"
      ],
      "metadata": {
        "id": "1t17cnFqYnV6"
      }
    },
    {
      "cell_type": "code",
      "execution_count": null,
      "metadata": {
        "id": "_9eUtDQ9YB1s"
      },
      "outputs": [],
      "source": [
        "import numpy as np\n",
        "import matplotlib.pyplot as plt\n",
        "import pandas as pd\n",
        "veriler=pd.read_csv(\"Churn_Modelling.txt\")\n",
        "#veri ön işleme\n",
        "X=veriler.iloc[:,3:13].values\n",
        "Y=veriler.iloc[:,13].values\n",
        "#encoding:kategorik->nümerik\n",
        "from sklearn import preprocessing\n",
        "le=preprocessing.LabelEncoder()\n",
        "X[:,1]=le.fit_transform(X[:,1]) #geography column\n",
        "le2=preprocessing.LabelEncoder()\n",
        "X[:,2]=le2.fit_transform(X[:,2]) #gender column\n",
        "#one hot encoding\n",
        "from sklearn.preprocessing import OneHotEncoder\n",
        "from sklearn.compose import ColumnTransformer\n",
        "ohe=ColumnTransformer([(\"ohe\",OneHotEncoder(dtype=float),[1])],remainder=\"passthrough\")\n",
        "X=ohe.fit_transform(X)\n",
        "X=X[:,1:]\n",
        "#verilerin eğitim ve test için bölünmesi\n",
        "from sklearn.model_selection import train_test_split\n",
        "x_train,x_test,y_train,y_test=train_test_split(X,Y,test_size=0.2,random_state=0)"
      ]
    },
    {
      "cell_type": "code",
      "source": [
        "from xgboost import XGBClassifier\n",
        "classifier=XGBClassifier()\n",
        "classifier.fit(x_train, y_train)\n",
        "y_pred=classifier.predict(x_test)\n",
        "y_pred"
      ],
      "metadata": {
        "colab": {
          "base_uri": "https://localhost:8080/"
        },
        "id": "9UGPj0E8Z4Na",
        "outputId": "b77bec86-1ce1-431f-803a-c3c150c5dc63"
      },
      "execution_count": null,
      "outputs": [
        {
          "output_type": "execute_result",
          "data": {
            "text/plain": [
              "array([0, 0, 0, ..., 0, 0, 0])"
            ]
          },
          "metadata": {},
          "execution_count": 13
        }
      ]
    },
    {
      "cell_type": "code",
      "source": [
        "from sklearn.metrics import confusion_matrix\n",
        "cm=confusion_matrix(y_pred,y_test)\n",
        "cm"
      ],
      "metadata": {
        "colab": {
          "base_uri": "https://localhost:8080/"
        },
        "id": "j44pgAIfbd-f",
        "outputId": "d18a90af-f07d-4fdc-e141-cada46098b89"
      },
      "execution_count": null,
      "outputs": [
        {
          "output_type": "execute_result",
          "data": {
            "text/plain": [
              "array([[1521,  197],\n",
              "       [  74,  208]])"
            ]
          },
          "metadata": {},
          "execution_count": 14
        }
      ]
    },
    {
      "cell_type": "markdown",
      "source": [
        "**Modelin Kaydedilip Tekrar Çalıştırılmadan Kullanılması**\n",
        "*   Pickle, joblib, Pmml"
      ],
      "metadata": {
        "id": "XBUK1sDAob5Z"
      }
    },
    {
      "cell_type": "code",
      "source": [
        "import pickle #pickle kütüphanesi\n",
        "dosya=\"model.kayit\"\n",
        "pickle.dump(lr,open(dosya,\"wb\")) #lr=LinearRegression()\n",
        "yuklenen=pickle.load(open(dosya,\"rb\"))\n",
        "yuklenen.predict(X_test)"
      ],
      "metadata": {
        "id": "A4EkurKGohmC"
      },
      "execution_count": null,
      "outputs": []
    }
  ]
}