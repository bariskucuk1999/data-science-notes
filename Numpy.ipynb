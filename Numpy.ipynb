{
  "nbformat": 4,
  "nbformat_minor": 0,
  "metadata": {
    "colab": {
      "name": "Numpy.ipynb",
      "provenance": [],
      "collapsed_sections": [],
      "authorship_tag": "ABX9TyNhE6usBH6ZJzr9ZQ9X9leP",
      "include_colab_link": true
    },
    "kernelspec": {
      "name": "python3",
      "display_name": "Python 3"
    },
    "language_info": {
      "name": "python"
    }
  },
  "cells": [
    {
      "cell_type": "markdown",
      "metadata": {
        "id": "view-in-github",
        "colab_type": "text"
      },
      "source": [
        "<a href=\"https://colab.research.google.com/github/bariskucuk1999/data-science-notes/blob/main/Numpy.ipynb\" target=\"_parent\"><img src=\"https://colab.research.google.com/assets/colab-badge.svg\" alt=\"Open In Colab\"/></a>"
      ]
    },
    {
      "cell_type": "code",
      "source": [
        "import numpy as np\n",
        "import matplotlib.pyplot as matplot\n",
        "maasListesi=np.random.normal(4000,500,1000) #değer ,standart sapma, veri sayısı\n",
        "np.mean(maasListesi) #ortalama\n",
        "matplot.hist(maasListesi,50) #histogram grafiği\n",
        "matplot.show()"
      ],
      "metadata": {
        "colab": {
          "base_uri": "https://localhost:8080/",
          "height": 265
        },
        "id": "BqNJhVhozPWs",
        "outputId": "44ba17c1-fc35-45a6-8ce8-1aba60891048"
      },
      "execution_count": null,
      "outputs": [
        {
          "output_type": "display_data",
          "data": {
            "image/png": "[encoded data removed]",
            "text/plain": [
              "<Figure size 432x288 with 1 Axes>"
            ]
          },
          "metadata": {
            "needs_background": "light"
          }
        }
      ]
    },
    {
      "cell_type": "markdown",
      "source": [
        "**Numpy Arrays**"
      ],
      "metadata": {
        "id": "IsP7_zJq79rn"
      }
    },
    {
      "cell_type": "code",
      "source": [
        "myList=[10,20,30]\n",
        "numpy.array(myList)\n",
        "matrix=[[10,20,30],[5,10,15],[50,60,70]]\n",
        "matrix[1][2]\n",
        "myArray1=numpy.array(matrix)\n",
        "myArray1[2:,0] #çıktısı 50\n",
        "myArray1[[0,2]] #1 ve 3. indeksleri yazdırır(fancy indexing)"
      ],
      "metadata": {
        "colab": {
          "base_uri": "https://localhost:8080/"
        },
        "id": "fNFFgQdP7PUv",
        "outputId": "4416c705-b084-4917-cb4c-96e90a2786c9"
      },
      "execution_count": null,
      "outputs": [
        {
          "output_type": "execute_result",
          "data": {
            "text/plain": [
              "array([[10, 20, 30],\n",
              "       [50, 60, 70]])"
            ]
          },
          "metadata": {},
          "execution_count": 66
        }
      ]
    },
    {
      "cell_type": "markdown",
      "source": [
        "**Numpy Methods**"
      ],
      "metadata": {
        "id": "G1jq2KWN_GXY"
      }
    },
    {
      "cell_type": "code",
      "source": [
        "evenList=numpy.arange(0,40,2) #çıktısı [0,2,4,6,8,...,38]\n",
        "numpy.zeros(5) #5 adet sıfır oluşturma\n",
        "numpy.ones((5,5)) #5x5 matris (tüm elemanların değeri 1)\n",
        "numpy.linspace(0,20,5) #0-20 arasında 5 tane eleman yazdırılır (0-20 dahil)\n",
        "numpy.eye(4) #4x4 identity matrix\n",
        "numpy.random.randn(6) #numpy rastgele dizisi\n",
        "numpy.random.randint(1,10,3) #numpy rastgele değer (1-9 arası 3 adet rastgele değer)\n",
        "evenList.reshape(4,5) #diziyi 4x5 matrise dönüştürür\n",
        "evenList.max() #max değer\n",
        "evenList.argmax() #max değerin kaçıncı indekste olduğu\n",
        "reshapeDizi=evenList.reshape(4,5)\n",
        "reshapeDizi.shape #güncel dizinin shape'ini gösterir\n"
      ],
      "metadata": {
        "colab": {
          "base_uri": "https://localhost:8080/"
        },
        "id": "zUAEhWZQ_LhT",
        "outputId": "9a0cd2d1-05eb-4d17-fdbf-f4c368b41e4c"
      },
      "execution_count": null,
      "outputs": [
        {
          "output_type": "execute_result",
          "data": {
            "text/plain": [
              "(4, 5)"
            ]
          },
          "metadata": {},
          "execution_count": 47
        }
      ]
    },
    {
      "cell_type": "markdown",
      "source": [
        "**Numpy Iterations**"
      ],
      "metadata": {
        "id": "RYPbjiZnNjXJ"
      }
    },
    {
      "cell_type": "code",
      "source": [
        "oddArray=numpy.arange(1,25,2)\n",
        "slicingArray=oddArray[3:8] #3-8. index arası elemanlar seçili\n",
        "slicingArray[:]=90 #3-8. index arası elemanlar 90 değerini alır\n",
        "oddArray1=oddArray.copy() #dizi kopyalama\n",
        "maxArray = oddArray > 17\n",
        "oddArray[maxArray] #sadece 17'den büyük değerler\n",
        "numpy.sqrt(oddArray)"
      ],
      "metadata": {
        "colab": {
          "base_uri": "https://localhost:8080/"
        },
        "id": "ZLVRe8xFNmrf",
        "outputId": "60614f35-35df-4acd-af3e-dd22a2e6711d"
      },
      "execution_count": null,
      "outputs": [
        {
          "output_type": "execute_result",
          "data": {
            "text/plain": [
              "array([1.        , 1.73205081, 2.23606798, 9.48683298, 9.48683298,\n",
              "       9.48683298, 9.48683298, 9.48683298, 4.12310563, 4.35889894,\n",
              "       4.58257569, 4.79583152])"
            ]
          },
          "metadata": {},
          "execution_count": 68
        }
      ]
    }
  ]
}