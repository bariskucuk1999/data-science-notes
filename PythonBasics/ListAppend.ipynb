{
  "nbformat": 4,
  "nbformat_minor": 0,
  "metadata": {
    "colab": {
      "name": "ListAppend.ipynb",
      "provenance": [],
      "history_visible": true,
      "collapsed_sections": [],
      "authorship_tag": "ABX9TyNxoVSDZ8YEBXG3wZf7OrPR",
      "include_colab_link": true
    },
    "kernelspec": {
      "name": "python3",
      "display_name": "Python 3"
    }
  },
  "cells": [
    {
      "cell_type": "markdown",
      "metadata": {
        "id": "view-in-github",
        "colab_type": "text"
      },
      "source": [
        "<a href=\"https://colab.research.google.com/github/bariskucuk1999/data-science-notes/blob/main/ListAppend.ipynb\" target=\"_parent\"><img src=\"https://colab.research.google.com/assets/colab-badge.svg\" alt=\"Open In Colab\"/></a>"
      ]
    },
    {
      "cell_type": "code",
      "metadata": {
        "id": "tzLAzDf946jk",
        "colab": {
          "base_uri": "https://localhost:8080/"
        },
        "outputId": "ed16afc4-5c04-41b2-da4c-fc9b525b6959"
      },
      "source": [
        "list0=[]\n",
        "list1=[]\n",
        "n=int(input())\n",
        "for i in range(n):\n",
        "    name = input()\n",
        "    score = float(input())\n",
        "    list0.append(name)\n",
        "    list1.append(score)\n",
        "maxNum=max(list1)\n",
        "for j in range(n):\n",
        " if max(list1[j]):\n",
        "   print(list0[j])\n",
        "\n",
        "#for j in range(n-1):\n",
        "  #if max(list1)==list1[j]:\n",
        "   #list1.remove(list1[i])\n",
        "#list1.remove(max(list1))\n",
        "#print(list0[-1])"
      ],
      "execution_count": null,
      "outputs": [
        {
          "output_type": "stream",
          "text": [
            "3\n",
            "Akif\n",
            "1.15\n",
            "Suat\n",
            "2.25\n",
            "Hayri\n",
            "1.90\n",
            "Suat\n"
          ],
          "name": "stdout"
        }
      ]
    },
    {
      "cell_type": "code",
      "metadata": {
        "id": "7yka_3RsU6x7"
      },
      "source": [
        ""
      ],
      "execution_count": null,
      "outputs": []
    }
  ]
}
