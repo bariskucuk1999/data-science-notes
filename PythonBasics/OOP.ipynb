{
  "nbformat": 4,
  "nbformat_minor": 0,
  "metadata": {
    "colab": {
      "name": "OOP.ipynb",
      "provenance": [],
      "authorship_tag": "ABX9TyOlA4UuOQ9mUjUGtZws5rgI",
      "include_colab_link": true
    },
    "kernelspec": {
      "name": "python3",
      "display_name": "Python 3"
    },
    "language_info": {
      "name": "python"
    }
  },
  "cells": [
    {
      "cell_type": "markdown",
      "metadata": {
        "id": "view-in-github",
        "colab_type": "text"
      },
      "source": [
        "<a href=\"https://colab.research.google.com/github/bariskucuk1999/data-science-notes/blob/main/OOP.ipynb\" target=\"_parent\"><img src=\"https://colab.research.google.com/assets/colab-badge.svg\" alt=\"Open In Colab\"/></a>"
      ]
    },
    {
      "cell_type": "code",
      "execution_count": null,
      "metadata": {
        "colab": {
          "base_uri": "https://localhost:8080/"
        },
        "id": "9vrMQHTkAvCb",
        "outputId": "f3b126d5-d747-446d-8c1a-3ddef9bab2cd"
      },
      "outputs": [
        {
          "output_type": "stream",
          "name": "stdout",
          "text": [
            "init çağrıldı\n",
            "Tekir miyavladı\n"
          ]
        }
      ],
      "source": [
        "class Kedi():\n",
        "  def __init__(self,input1,input2,input3): #constructor\n",
        "    print(\"init çağrıldı\")\n",
        "    self.name=input1\n",
        "    self.color=input2\n",
        "    self.age=input3\n",
        "  def sound(self):\n",
        "    print(f\"{self.name} miyavladı\")\n",
        "\n",
        "kedi=Kedi(\"Tekir\",\"Gri\",\"4\");\n",
        "kedi.name\n",
        "kedi.sound()"
      ]
    },
    {
      "cell_type": "markdown",
      "source": [
        "**Inheritance**"
      ],
      "metadata": {
        "id": "tPWg5deVJMcr"
      }
    },
    {
      "cell_type": "code",
      "source": [
        "class Hayvan():\n",
        "  def __init__(self):\n",
        "    print(\"hayvan sınıfı init çağrıldı.\")\n",
        "  def method1(self):\n",
        "    print(\"method1 çağrıldı\")\n",
        "  def method2(self):\n",
        "    print(\"method2 çağrıldı\")\n",
        "class Kopek(Hayvan):\n",
        "  def __init__(self):\n",
        "    Hayvan.__init__(self)\n",
        "    print(\"köpek sınıfı init çağrıldı\")\n",
        "  def method1(self): #method override\n",
        "    print(\"method1 köpek sınıfı için çağrıldı\")\n",
        "kopek=Kopek()\n",
        "kopek.method1()"
      ],
      "metadata": {
        "colab": {
          "base_uri": "https://localhost:8080/"
        },
        "id": "iHhcO242JPmj",
        "outputId": "f418e581-4010-45e3-9b1b-a02ef32ec3fc"
      },
      "execution_count": null,
      "outputs": [
        {
          "output_type": "stream",
          "name": "stdout",
          "text": [
            "hayvan sınıfı init çağrıldı.\n",
            "köpek sınıfı init çağrıldı\n",
            "method1 köpek sınıfı için çağrıldı\n"
          ]
        }
      ]
    },
    {
      "cell_type": "markdown",
      "source": [
        "**Polymorphism**"
      ],
      "metadata": {
        "id": "qgarPxOtLqnn"
      }
    },
    {
      "cell_type": "code",
      "source": [
        "class Araba():\n",
        "  def __init__(self,brand):\n",
        "    self.brand=brand\n",
        "  def maksHiz(self):\n",
        "    return self.brand + \" 500 km/s'dir\"\n",
        "class Motorsiklet():\n",
        "  def __init__(self,brand):\n",
        "    self.brand=brand\n",
        "  def maksHiz(self):\n",
        "    return self.brand + \" 350 km/s'dir\"\n",
        "araba=Araba(\"Bugatti\")\n",
        "motor=Motorsiklet(\"Honda\")\n",
        "aracList=[araba,motor]\n",
        "for arac in aracList:\n",
        "  print(arac.maksHiz())\n",
        "      ###ya da###\n",
        "def maksHizOgren(arac):\n",
        "  print(\"Maksimum hız\" + arac.maksHiz())\n",
        "maksHizOgren(araba)\n"
      ],
      "metadata": {
        "colab": {
          "base_uri": "https://localhost:8080/"
        },
        "id": "0oiXOnJXLtyR",
        "outputId": "db98ee74-5808-40c5-fe4e-ca15dd1f032e"
      },
      "execution_count": null,
      "outputs": [
        {
          "output_type": "stream",
          "name": "stdout",
          "text": [
            "Bugatti 500 km/s'dir\n",
            "Honda 350 km/s'dir\n",
            "Maksimum hızBugatti 500 km/s'dir\n"
          ]
        }
      ]
    },
    {
      "cell_type": "markdown",
      "source": [
        "**Special Methods**"
      ],
      "metadata": {
        "id": "eBzQGtNTUi8D"
      }
    },
    {
      "cell_type": "code",
      "source": [
        "class Meyve():\n",
        "  def __init__(self,name,color,kilogram):\n",
        "    self.name=name\n",
        "    self.color=color\n",
        "    self.kilogram=kilogram\n",
        "  def __str__(self):\n",
        "    return f\"{self.name} meyvesinin rengi: {self.color}\"\n",
        "  def __len__(self):\n",
        "    return self.kilogram\n",
        "muz=Meyve(\"Muz\",\"Sarı\",5)\n",
        "print(muz) #özel metod ile çıktı alındı\n",
        "len(muz)"
      ],
      "metadata": {
        "colab": {
          "base_uri": "https://localhost:8080/"
        },
        "id": "uq-QrpLPRrYH",
        "outputId": "ab4db7c0-3cc7-4bde-dcab-27fdb6bd3518"
      },
      "execution_count": null,
      "outputs": [
        {
          "output_type": "stream",
          "name": "stdout",
          "text": [
            "Muz meyvesinin rengi: Sarı\n"
          ]
        },
        {
          "output_type": "execute_result",
          "data": {
            "text/plain": [
              "5"
            ]
          },
          "metadata": {},
          "execution_count": 31
        }
      ]
    },
    {
      "cell_type": "markdown",
      "source": [
        "**Exception Handling**"
      ],
      "metadata": {
        "id": "EL5sdDjsXFoG"
      }
    },
    {
      "cell_type": "code",
      "source": [
        "def topla(num1,num2):\n",
        "  return num1+num2\n",
        "while True:\n",
        "  try:\n",
        "    x=int(input(\"İlk sayıyı giriniz:\"))\n",
        "    y=int(input(\"İkinci sayıyı giriniz:\"))\n",
        "  except:\n",
        "    print(\"Lütfen geçerli bir sayı giriniz\")\n",
        "    continue\n",
        "  else:\n",
        "    break\n",
        "  #finally:\n",
        "    #her durumda çalışır\n",
        "topla(x,y)"
      ],
      "metadata": {
        "colab": {
          "base_uri": "https://localhost:8080/"
        },
        "id": "lGUOS3eeXIM6",
        "outputId": "211ff306-cd2a-449e-e27d-041ee06b9179"
      },
      "execution_count": null,
      "outputs": [
        {
          "name": "stdout",
          "output_type": "stream",
          "text": [
            "İlk sayıyı giriniz:12\n",
            "İkinci sayıyı giriniz:mrb\n",
            "Lütfen geçerli bir sayı giriniz\n",
            "İlk sayıyı giriniz:43\n",
            "İkinci sayıyı giriniz:45\n"
          ]
        },
        {
          "output_type": "execute_result",
          "data": {
            "text/plain": [
              "88"
            ]
          },
          "metadata": {},
          "execution_count": 2
        }
      ]
    }
  ]
}
