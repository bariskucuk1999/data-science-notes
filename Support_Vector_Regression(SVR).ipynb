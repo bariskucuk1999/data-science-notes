{
  "nbformat": 4,
  "nbformat_minor": 0,
  "metadata": {
    "colab": {
      "name": "Support Vector Regression(SVR).ipynb",
      "provenance": [],
      "collapsed_sections": [],
      "authorship_tag": "ABX9TyPBhfhtbqpnHtWEaoOErngG",
      "include_colab_link": true
    },
    "kernelspec": {
      "name": "python3",
      "display_name": "Python 3"
    },
    "language_info": {
      "name": "python"
    }
  },
  "cells": [
    {
      "cell_type": "markdown",
      "metadata": {
        "id": "view-in-github",
        "colab_type": "text"
      },
      "source": [
        "<a href=\"https://colab.research.google.com/github/bariskucuk1999/data-science-notes/blob/main/Support_Vector_Regression(SVR).ipynb\" target=\"_parent\"><img src=\"https://colab.research.google.com/assets/colab-badge.svg\" alt=\"Open In Colab\"/></a>"
      ]
    },
    {
      "cell_type": "code",
      "execution_count": null,
      "metadata": {
        "colab": {
          "base_uri": "https://localhost:8080/",
          "height": 337
        },
        "id": "FH7eDycF0f-l",
        "outputId": "43fbdde9-8a96-4b07-ec0f-36e7036965d0"
      },
      "outputs": [
        {
          "output_type": "stream",
          "name": "stderr",
          "text": [
            "/usr/local/lib/python3.7/dist-packages/sklearn/utils/validation.py:993: DataConversionWarning: A column-vector y was passed when a 1d array was expected. Please change the shape of y to (n_samples, ), for example using ravel().\n",
            "  y = column_or_1d(y, warn=True)\n"
          ]
        },
        {
          "output_type": "execute_result",
          "data": {
            "text/plain": [
              "[<matplotlib.lines.Line2D at 0x7f102b0f3890>]"
            ]
          },
          "metadata": {},
          "execution_count": 3
        },
        {
          "output_type": "display_data",
          "data": {
            "text/plain": [
              "<Figure size 432x288 with 1 Axes>"
            ],
            "image/png": "[encoded data removed]"
          },
          "metadata": {
            "needs_background": "light"
          }
        }
      ],
      "source": [
        "import numpy as np\n",
        "import pandas as pd\n",
        "import matplotlib.pyplot as plt\n",
        "veriler=pd.read_csv(\"maaslar.txt\")\n",
        "x=veriler.iloc[:,1:2] #eğitim seviyesi\n",
        "y=veriler.iloc[:,2:] #maas\n",
        "X=x.values #data frame bu örnekte sklearn'de sıkıntı çıkardığı için numpy array dönüşümü\n",
        "Y=y.values\n",
        "\n",
        "#verilerin ölçeklenmesi\n",
        "from sklearn.preprocessing import StandardScaler\n",
        "sc1=StandardScaler()\n",
        "x_olcekli=sc1.fit_transform(X)\n",
        "sc2=StandardScaler()\n",
        "y_olcekli=sc2.fit_transform(Y)\n",
        "\n",
        "from sklearn.svm import SVR\n",
        "svr_reg=SVR(kernel=\"rbf\") #radial basis function\n",
        "svr_reg.fit(x_olcekli,y_olcekli)\n",
        "plt.scatter(x_olcekli,y_olcekli,color=\"red\")\n",
        "plt.plot(x_olcekli,svr_reg.predict(x_olcekli),color=\"blue\")"
      ]
    },
    {
      "cell_type": "code",
      "source": [
        "svr_reg.predict([[11]])"
      ],
      "metadata": {
        "colab": {
          "base_uri": "https://localhost:8080/"
        },
        "id": "-XXQMOeO7N9U",
        "outputId": "f421e758-3392-4877-e473-d786eab6cfc9"
      },
      "execution_count": null,
      "outputs": [
        {
          "output_type": "execute_result",
          "data": {
            "text/plain": [
              "array([0.01150915])"
            ]
          },
          "metadata": {},
          "execution_count": 4
        }
      ]
    },
    {
      "cell_type": "code",
      "source": [
        "from sklearn.metrics import r2_score\n",
        "r2_score(y_olcekli,svr_reg.predict(x_olcekli))\n",
        "#çıkan sonuç support vector regression(svr) R2 değeri"
      ],
      "metadata": {
        "colab": {
          "base_uri": "https://localhost:8080/"
        },
        "id": "0vq69adUDJ8P",
        "outputId": "c358a8c0-c5ef-4dc0-b8ee-5dff0d1c0300"
      },
      "execution_count": null,
      "outputs": [
        {
          "output_type": "execute_result",
          "data": {
            "text/plain": [
              "0.7513836788854973"
            ]
          },
          "metadata": {},
          "execution_count": 5
        }
      ]
    }
  ]
}