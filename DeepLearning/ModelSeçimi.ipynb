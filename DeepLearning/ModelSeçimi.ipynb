{
  "nbformat": 4,
  "nbformat_minor": 0,
  "metadata": {
    "colab": {
      "name": "ModelSeçimi.ipynb",
      "provenance": [],
      "collapsed_sections": [],
      "authorship_tag": "ABX9TyNXZCV+vJtoCbASLq14CvtK",
      "include_colab_link": true
    },
    "kernelspec": {
      "name": "python3",
      "display_name": "Python 3"
    },
    "language_info": {
      "name": "python"
    }
  },
  "cells": [
    {
      "cell_type": "markdown",
      "metadata": {
        "id": "view-in-github",
        "colab_type": "text"
      },
      "source": [
        "<a href=\"https://colab.research.google.com/github/bariskucuk1999/data-science-notes/blob/main/ModelSe%C3%A7imi.ipynb\" target=\"_parent\"><img src=\"https://colab.research.google.com/assets/colab-badge.svg\" alt=\"Open In Colab\"/></a>"
      ]
    },
    {
      "cell_type": "code",
      "execution_count": null,
      "metadata": {
        "colab": {
          "base_uri": "https://localhost:8080/"
        },
        "id": "c4k_qAqj32oi",
        "outputId": "f56d5547-c9f5-4a72-8d35-739ff5b3b47a"
      },
      "outputs": [
        {
          "output_type": "execute_result",
          "data": {
            "text/plain": [
              "array([[64,  4],\n",
              "       [ 3, 29]])"
            ]
          },
          "metadata": {},
          "execution_count": 5
        }
      ],
      "source": [
        "import numpy as np\n",
        "import matplotlib.pyplot as plt\n",
        "import pandas as pd\n",
        "dataset=pd.read_csv(\"Social_Network_Ads.csv\")\n",
        "X=dataset.iloc[:,[2,3]].values\n",
        "y=dataset.iloc[:,4].values\n",
        "#eğitim ve test kümelerinin bölünmesi\n",
        "from sklearn.model_selection import train_test_split\n",
        "X_train,X_test,y_train,y_test=train_test_split(X,y,test_size=0.25,random_state=0)\n",
        "#verilerin ölçeklenmesi\n",
        "from sklearn.preprocessing import StandardScaler\n",
        "sc=StandardScaler()\n",
        "X_train=sc.fit_transform(X_train)\n",
        "X_test=sc.transform(X_test)\n",
        "#svm\n",
        "from sklearn.svm import SVC\n",
        "classifier=SVC(kernel=\"rbf\",random_state=0)\n",
        "classifier.fit(X_train,y_train)\n",
        "#tahminler\n",
        "y_pred=classifier.predict(X_test)\n",
        "#confusion matrix\n",
        "from sklearn.metrics import confusion_matrix\n",
        "cm=confusion_matrix(y_test,y_pred)\n",
        "cm"
      ]
    },
    {
      "cell_type": "markdown",
      "source": [
        "**K-Katlamalı Çapraz Doğrulama**"
      ],
      "metadata": {
        "id": "f-AzZmhqEnEt"
      }
    },
    {
      "cell_type": "code",
      "source": [
        "from sklearn.model_selection import cross_val_score\n",
        "#1. estimator:classifier (bu durum için)\n",
        "#2. X\n",
        "#3. Y\n",
        "#4. cv:kaç katlamalı\n",
        "basari=cross_val_score(estimator=classifier,X=X_train,y=y_train,cv=4)\n",
        "basari.mean() #algoritmaların başarı score'una bakma"
      ],
      "metadata": {
        "colab": {
          "base_uri": "https://localhost:8080/"
        },
        "id": "ZFuZIO-mDrb7",
        "outputId": "9ed5420d-018e-4e19-8e6c-255110ca9cf5"
      },
      "execution_count": null,
      "outputs": [
        {
          "output_type": "execute_result",
          "data": {
            "text/plain": [
              "0.8999999999999999"
            ]
          },
          "metadata": {},
          "execution_count": 7
        }
      ]
    },
    {
      "cell_type": "code",
      "source": [
        "basari.std() #standart sapmaya bakarak modeli değerlendirme"
      ],
      "metadata": {
        "colab": {
          "base_uri": "https://localhost:8080/"
        },
        "id": "iduMDtJtEg2Q",
        "outputId": "6e1718f1-8fdb-4c2a-f494-57a0560b733f"
      },
      "execution_count": null,
      "outputs": [
        {
          "output_type": "execute_result",
          "data": {
            "text/plain": [
              "0.03590109871423001"
            ]
          },
          "metadata": {},
          "execution_count": 8
        }
      ]
    },
    {
      "cell_type": "markdown",
      "source": [
        "Hangi modeli seçeceğim?\n",
        "\n",
        "\n",
        "*   Öncelikle modelin tipinin belirlenmesi\n",
        "  *   Bağımlı değişken var mı? (Classification-Regression/Clustering(Kümeleme))\n",
        "      *   Bağımlı değişken kategorik mi sürekli bir sayı mı?(Classification/Regression)\n",
        "  *   Doğrusal/doğrusal olmayan\n",
        "\n"
      ],
      "metadata": {
        "id": "2qBREzqSFtDv"
      }
    },
    {
      "cell_type": "code",
      "source": [
        "#parametre optimizasyonu ve algoritma seçimi\n",
        "from sklearn.model_selection import GridSearchCV\n",
        "p=[{\"C\":[1,2,3,4,5],\"kernel\":[\"linear\",\"rbf\"]}, #list yerine dictionary olarak tanımladık\n",
        "   {\"C\":[1,10,100,1000],\"kernel\":[\"rbf\"],\n",
        "    \"gamma\":[1,0.5,0.1,0.01,0.001]}] #p(parametreler listesi)->gridsearch'in arayacağı çözümler\n",
        "\"\"\"\n",
        "Grid Search CV parametreleri\n",
        "estimator: sınıflandırma algoritması(neyi optimize etmek istediğimiz)\n",
        "param_grid: parametreler/denenecekler\n",
        "scoring: neye göre skorlanacak(örn. accuracy)\n",
        "cv: kaç katlamalı olacağı\n",
        "n_jobs: aynı anda çalışacak iş\n",
        "\"\"\"\n",
        "gs=GridSearchCV(estimator=classifier,#svm algoritmasını optimize etme\n",
        "                param_grid=p,\n",
        "                scoring=\"accuracy\",\n",
        "                cv=10,\n",
        "                n_jobs=-1)\n",
        "grid_search=gs.fit(X_train,y_train)\n",
        "eniyisonuc=grid_search.best_score_\n",
        "eniyiparametreler=grid_search.best_params_\n",
        "print(\"En iyi sonuç: \",eniyisonuc)\n",
        "print(\"En iyi parametre: \",eniyiparametreler)"
      ],
      "metadata": {
        "colab": {
          "base_uri": "https://localhost:8080/"
        },
        "id": "V5Pc6JiDGpEU",
        "outputId": "bd8e22e3-b4ee-493a-e9ca-9076f2c6d7da"
      },
      "execution_count": null,
      "outputs": [
        {
          "output_type": "stream",
          "name": "stdout",
          "text": [
            "En iyi sonuç:  0.9099999999999999\n",
            "En iyi parametre:  {'C': 1, 'gamma': 1, 'kernel': 'rbf'}\n"
          ]
        }
      ]
    }
  ]
}
